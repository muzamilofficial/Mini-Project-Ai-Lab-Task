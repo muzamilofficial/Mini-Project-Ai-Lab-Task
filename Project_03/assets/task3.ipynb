{
 "cells": [
  {
   "cell_type": "code",
   "execution_count": 1,
   "id": "949a0e9a",
   "metadata": {},
   "outputs": [
    {
     "name": "stdout",
     "output_type": "stream",
     "text": [
      "living room:\t12 action------> turn off\n",
      "drawing room:\t23 action------> trun on\n",
      "kitchen room:\t34 action------> trun on\n",
      "updated temperature are= {12: 'turn off', 23: 'trun on', 34: 'trun on'}\n",
      "12 -> turn off23 -> trun on34 -> trun on\n"
     ]
    }
   ],
   "source": [
    "class modelagent:\n",
    "    def __init__(self,temp,file=\"task3.txt\"):\n",
    "        self.temp=temp\n",
    "        self.filename=file\n",
    "        self.file={}\n",
    "        with open(self.filename, \"w\") as f:\n",
    "            pass\n",
    "\n",
    "    \n",
    "    def sensor(self,user_tem):\n",
    "        self.user_temp=user_tem\n",
    "        if self.user_temp in self.file:\n",
    "            return ( self.file[self.user_temp])\n",
    "        else:\n",
    "            a=None\n",
    "            if self.user_temp>=self.temp :\n",
    "                a=(\"trun on\")\n",
    "            else:\n",
    "                a=(\"turn off\")\n",
    "            self.file[self.user_temp] = a\n",
    "            f=open(self.filename, \"a\")\n",
    "            f.write(f\"{self.user_temp} -> {a}\")\n",
    "          \n",
    "            return a\n",
    "    def actuator(self):\n",
    "        a=self.sensor(self.user_temp)\n",
    "        print(self.user_temp,\"action------>\",a)\n",
    "    def call_history(self):\n",
    "        print(\"updated temperature are=\",self.file)\n",
    "        f=open(self.filename, \"r\")\n",
    "        print(f.read())\n",
    "        \n",
    "s=modelagent(16)\n",
    "rooms={\"living room\":int(input(\"enter your tem=\")),\n",
    "       \"drawing room\":int(input(\"enter your tem=\")),\n",
    "       \"kitchen room\":int(input(\"enter your tem=\"))}\n",
    "for room,temp in rooms.items():\n",
    "    print(room,end=\":\\t\")\n",
    "    s.sensor(temp)\n",
    "    s.actuator()\n",
    "\n",
    "s.call_history()"
   ]
  }
 ],
 "metadata": {
  "kernelspec": {
   "display_name": "Python 3",
   "language": "python",
   "name": "python3"
  },
  "language_info": {
   "codemirror_mode": {
    "name": "ipython",
    "version": 3
   },
   "file_extension": ".py",
   "mimetype": "text/x-python",
   "name": "python",
   "nbconvert_exporter": "python",
   "pygments_lexer": "ipython3",
   "version": "3.13.1"
  }
 },
 "nbformat": 4,
 "nbformat_minor": 5
}
