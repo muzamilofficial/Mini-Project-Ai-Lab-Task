{
 "cells": [
  {
   "cell_type": "code",
   "execution_count": 4,
   "id": "30799ef3",
   "metadata": {},
   "outputs": [
    {
     "name": "stdout",
     "output_type": "stream",
     "text": [
      "55\n",
      "buzz\n",
      "42\n",
      "42\n",
      "62\n",
      "62\n",
      "63\n",
      "your are out from this game\n"
     ]
    }
   ],
   "source": [
    "import random\n",
    "last_nmbr=0\n",
    "while True:\n",
    "  ran=random.randint(1,100)\n",
    "  print(ran)\n",
    "  if last_nmbr==0:\n",
    "    total=ran\n",
    "  else:\n",
    "    total=last_nmbr+ran\n",
    "  # print(\"total\",total)\n",
    "  user_input=input(\"enter your input=\")\n",
    "  if total%3==0 and total%5!=0 and  user_input==\"fizz\":\n",
    "   print(\"fizz\")\n",
    "  elif total%5==0 and total%3!=0 and user_input==\"buzz\":\n",
    "   print(\"buzz\")\n",
    "  elif total%3==0 and total%5==0 and user_input==\"fizzbuzz\":\n",
    "   print(\"fizzbuzz\")\n",
    "  elif total%3!=0 and total%5!=0 and user_input==\"nmbr\":\n",
    "   print(ran)    \n",
    "  else:\n",
    "   print(\"your are out from this game\")   \n",
    "   break\n",
    "  last_nmbr=ran                        "
   ]
  }
 ],
 "metadata": {
  "kernelspec": {
   "display_name": "base",
   "language": "python",
   "name": "python3"
  },
  "language_info": {
   "codemirror_mode": {
    "name": "ipython",
    "version": 3
   },
   "file_extension": ".py",
   "mimetype": "text/x-python",
   "name": "python",
   "nbconvert_exporter": "python",
   "pygments_lexer": "ipython3",
   "version": "3.12.7"
  }
 },
 "nbformat": 4,
 "nbformat_minor": 5
}
