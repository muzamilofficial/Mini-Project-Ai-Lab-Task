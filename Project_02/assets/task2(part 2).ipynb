{
 "cells": [
  {
   "cell_type": "code",
   "execution_count": 1,
   "id": "b6142105",
   "metadata": {},
   "outputs": [
    {
     "name": "stdout",
     "output_type": "stream",
     "text": [
      "updated movies= [('saiyara', 20000000), ('three-ediot', 9000000), ('home', 4500000), ('college life', 379000000), ('roxstar', 365000000), ('ishq', 356000000), ('Incredibles 2', 200000000), ('spent', 3000)]\n",
      "All values  [20000000, 9000000, 4500000, 379000000, 365000000, 356000000, 200000000, 3000]\n",
      "total budget= 1333503000\n",
      "Total Average=\n",
      "\n",
      "average= 166687875.0\n",
      "movies budget higher then average ,and how much higher=\n",
      "\n",
      "('college life', 379000000)\n",
      "college life movie ka budget 212312125.0 zyada hai average se\n",
      "('roxstar', 365000000)\n",
      "roxstar movie ka budget 198312125.0 zyada hai average se\n",
      "('ishq', 356000000)\n",
      "ishq movie ka budget 189312125.0 zyada hai average se\n",
      "('Incredibles 2', 200000000)\n",
      "Incredibles 2 movie ka budget 33312125.0 zyada hai average se\n",
      "Total movies whose spent budget more then the average =\n",
      " \n",
      "total movies= 4\n"
     ]
    }
   ],
   "source": [
    "movies=[(\"saiyara\",20000000),(\"three-ediot\",9000000),(\"home\",4500000),(\"college life\",379000000),(\"roxstar\",365000000),(\"ishq\",356000000),(\"Incredibles 2\", 200000000)]\n",
    "user_input=int(input(\"enter more movies if you want to add=\"))\n",
    "for i in range (1,user_input+1):\n",
    "    a=(input(f\"enter {i}movie name  =\"))\n",
    "    b=int(input(f\"enter {i} movie budget =\"))\n",
    "    movies.append((a,b))\n",
    "    \n",
    "print(\"updated movies=\",movies)\n",
    "c=[]\n",
    "for name,value in movies:\n",
    "    c.append(value)\n",
    "print(\"All values \",c)\n",
    "total=sum(c)\n",
    "print(\"total budget=\",total)\n",
    "average=total/len(c)\n",
    "print(\"Total Average=\\n\")\n",
    "print(\"average=\",average)\n",
    "\n",
    "\n",
    "\n",
    "d=[]\n",
    "print(\"movies budget higher then average ,and how much higher=\\n\")\n",
    "for name, value in movies:\n",
    "    if value  > average:\n",
    "        print(f\"{name,value}\")\n",
    "        diff = value - average\n",
    "        print(f\"{name} movie ka budget {diff} zyada hai average se\")\n",
    "        d.append(diff)\n",
    "     \n",
    "\n",
    "print(\"Total movies whose spent budget more then the average =\\n \")\n",
    "how_many=len(d)\n",
    "print(\"total movies=\",how_many)"
   ]
  }
 ],
 "metadata": {
  "kernelspec": {
   "display_name": "Python 3",
   "language": "python",
   "name": "python3"
  },
  "language_info": {
   "codemirror_mode": {
    "name": "ipython",
    "version": 3
   },
   "file_extension": ".py",
   "mimetype": "text/x-python",
   "name": "python",
   "nbconvert_exporter": "python",
   "pygments_lexer": "ipython3",
   "version": "3.13.1"
  }
 },
 "nbformat": 4,
 "nbformat_minor": 5
}
