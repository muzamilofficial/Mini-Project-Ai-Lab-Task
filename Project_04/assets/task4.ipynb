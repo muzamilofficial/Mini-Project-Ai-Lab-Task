{
 "cells": [
  {
   "cell_type": "markdown",
   "id": "be5b5535",
   "metadata": {},
   "source": [
    "# Part No 1"
   ]
  },
  {
   "cell_type": "code",
   "execution_count": 23,
   "id": "7312b832",
   "metadata": {},
   "outputs": [
    {
     "name": "stdout",
     "output_type": "stream",
     "text": [
      "you ending digit= 1\n",
      "total nmbr in your debit card now = 16\n",
      "ending nmbr remove= 629240003550860\n",
      "reverse order is= 068055300042926\n",
      "your total number is= 50\n",
      "your card nmbr is valid \n"
     ]
    }
   ],
   "source": [
    "debit_Number=\"\"\n",
    "user_input=input(\"enter your input\")\n",
    "debit_Number+=user_input\n",
    "spaces_remove=debit_Number.replace(\" \",\"\")\n",
    "ending_nmbr=int(spaces_remove[-1])\n",
    "print(\"you ending digit=\",ending_nmbr)\n",
    "n=len(spaces_remove)\n",
    "print(\"total nmbr in your debit card now =\",n)\n",
    "remove_end_point=spaces_remove[:-1]\n",
    "print(\"ending nmbr remove=\",remove_end_point)\n",
    "\n",
    "\n",
    "reverse_order=remove_end_point[::-1]\n",
    "print(\"reverse order is=\",reverse_order)\n",
    "\n",
    "total=0\n",
    "for i,digit in enumerate(reverse_order):\n",
    "    integer=int(digit)\n",
    "    if i%2==0:\n",
    "        integer=integer*2\n",
    "        \n",
    "        if integer>9:\n",
    "            integer-=9\n",
    "            \n",
    "    total+=integer\n",
    "\n",
    "total+=(ending_nmbr)\n",
    "print(\"your total number is=\",total)\n",
    "\n",
    "if total%10==0:\n",
    "    print(\"your card nmbr is valid \")\n",
    "else:\n",
    "    print(\"your card nmbr is invalid\")"
   ]
  },
  {
   "cell_type": "markdown",
   "id": "ae4def98",
   "metadata": {},
   "source": [
    "# Part No 2"
   ]
  },
  {
   "cell_type": "code",
   "execution_count": 25,
   "id": "e64e1209",
   "metadata": {},
   "outputs": [
    {
     "name": "stdout",
     "output_type": "stream",
     "text": [
      "Given string= (jaha(n%zai$b)\n",
      "jahanzaib"
     ]
    }
   ],
   "source": [
    "user_input=input(\"enter your number=\")\n",
    "print(\"Given string=\",user_input)\n",
    "for i in user_input:\n",
    "    if i.isalnum():\n",
    "        print(i,end=\"\")"
   ]
  },
  {
   "cell_type": "markdown",
   "id": "1bdbda14",
   "metadata": {},
   "source": [
    "# Part No 3"
   ]
  },
  {
   "cell_type": "markdown",
   "id": "bca784ae",
   "metadata": {},
   "source": [
    "# characte_wise"
   ]
  },
  {
   "cell_type": "code",
   "execution_count": 4,
   "id": "81802e93",
   "metadata": {},
   "outputs": [
    {
     "name": "stdout",
     "output_type": "stream",
     "text": [
      "aaaabhiijmnz\n"
     ]
    }
   ],
   "source": [
    "text = \"\"\n",
    "text_input = input(\"enter your input = \")\n",
    "text += text_input\n",
    "spaces_remove = text.replace(\" \", \"\")\n",
    "letter_list = list(spaces_remove)\n",
    "n = len(letter_list)\n",
    "for i in range(n):\n",
    "    for j in range(n-1-i):\n",
    "        if letter_list[j] > letter_list[j+1]:\n",
    "            letter_list[j],letter_list[j + 1] = letter_list[j + 1], letter_list[j]\n",
    "\n",
    "\n",
    "print(\"\".join(letter_list))"
   ]
  },
  {
   "cell_type": "markdown",
   "id": "af08c8eb",
   "metadata": {},
   "source": [
    "# sentence_wise"
   ]
  },
  {
   "cell_type": "code",
   "execution_count": 31,
   "id": "2d50b591",
   "metadata": {},
   "outputs": [
    {
     "name": "stdout",
     "output_type": "stream",
     "text": [
      "given sentence = jahanzaib is very Good person\n",
      "Good is jahanzaib person very\n"
     ]
    }
   ],
   "source": [
    "sentence = input(\"enter your sentence = \")\n",
    "print(\"given sentence =\", sentence)\n",
    "separate = sentence.split()\n",
    "n = len(separate)\n",
    "for i in range(n):\n",
    "    for j in range(n-1-i):\n",
    "        if separate[j] >separate[j+1]:\n",
    "           \n",
    "            num1 = separate[j]\n",
    "            num2 = separate[j + 1]\n",
    "            separate[j] = num2\n",
    "            separate[j + 1] = num1\n",
    "\n",
    "print(\" \".join(separate))"
   ]
  }
 ],
 "metadata": {
  "kernelspec": {
   "display_name": "Python 3",
   "language": "python",
   "name": "python3"
  },
  "language_info": {
   "codemirror_mode": {
    "name": "ipython",
    "version": 3
   },
   "file_extension": ".py",
   "mimetype": "text/x-python",
   "name": "python",
   "nbconvert_exporter": "python",
   "pygments_lexer": "ipython3",
   "version": "3.13.1"
  }
 },
 "nbformat": 4,
 "nbformat_minor": 5
}
