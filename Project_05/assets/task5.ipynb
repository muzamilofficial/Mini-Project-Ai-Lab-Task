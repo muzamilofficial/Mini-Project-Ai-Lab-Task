{
 "cells": [
  {
   "cell_type": "code",
   "execution_count": 7,
   "id": "ef071716",
   "metadata": {},
   "outputs": [
    {
     "name": "stdout",
     "output_type": "stream",
     "text": [
      "visited node from a to f ['a']\n",
      "visited node from b to f ['a', 'b']\n",
      "visited node from d to f ['a', 'b', 'd']\n",
      "visited node from e to f ['a', 'b', 'd', 'e']\n",
      "visited node from c to f ['a', 'b', 'd', 'e', 'c']\n",
      "visited node from f to f ['a', 'b', 'd', 'e', 'c', 'f']\n"
     ]
    }
   ],
   "source": [
    "class DFS:\n",
    "    def __init__(self):\n",
    "        self.visited=[]\n",
    "        self.stack=[]\n",
    "    def push(self,start,goal):\n",
    "        self.visited.append(start)\n",
    "        self.stack.append(start)\n",
    "        print(f\"visited node from {start} to {goal}\",self.visited)\n",
    "        if goal not in self.stack:\n",
    "            for i in tree[start]:\n",
    "                self.push(i,goal)\n",
    "start=\"a\"\n",
    "goal=\"f\"           \n",
    "tree={\"a\":[\"b\",\"c\"],\n",
    "      \"b\":[\"d\",\"e\"],\n",
    "      \"c\":[\"f\"],\n",
    "      \"d\":[],\n",
    "      \"e\":[],\n",
    "      \"f\":[\"g\"],\n",
    "      \"g\":[]}     \n",
    "d=DFS()\n",
    "d.push(start,goal)"
   ]
  }
 ],
 "metadata": {
  "kernelspec": {
   "display_name": "Python 3",
   "language": "python",
   "name": "python3"
  },
  "language_info": {
   "codemirror_mode": {
    "name": "ipython",
    "version": 3
   },
   "file_extension": ".py",
   "mimetype": "text/x-python",
   "name": "python",
   "nbconvert_exporter": "python",
   "pygments_lexer": "ipython3",
   "version": "3.13.1"
  }
 },
 "nbformat": 4,
 "nbformat_minor": 5
}
