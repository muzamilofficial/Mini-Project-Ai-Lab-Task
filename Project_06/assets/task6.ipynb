{
 "cells": [
  {
   "cell_type": "markdown",
   "id": "e46e888f",
   "metadata": {},
   "source": [
    "# without queue"
   ]
  },
  {
   "cell_type": "code",
   "execution_count": 1,
   "id": "efc6d957",
   "metadata": {},
   "outputs": [
    {
     "name": "stdout",
     "output_type": "stream",
     "text": [
      "Your goal met = ['a', 'b', 'c']\n"
     ]
    }
   ],
   "source": [
    "\n",
    "tree = {\n",
    "    \"a\": [\"b\", \"c\"],\n",
    "    \"b\": [\"d\", \"e\"],\n",
    "    \"c\": [\"f\"],\n",
    "    \"d\": [],\n",
    "    \"e\": [],\n",
    "    \"f\": [\"g\"],\n",
    "    \"g\": []\n",
    "}\n",
    "\n",
    "start= [\"a\"] \n",
    "goal = \"c\"\n",
    "visited = []\n",
    "\n",
    "while start:\n",
    "    a = start.pop(0)   \n",
    "    if a not in visited:\n",
    "        visited.append(a)\n",
    "        if a == goal:\n",
    "            print(\"Your goal met =\", visited)\n",
    "            break\n",
    "        for i in tree[a]:\n",
    "            start.append(i)"
   ]
  },
  {
   "cell_type": "markdown",
   "id": "055ebf05",
   "metadata": {},
   "source": [
    "# with queue"
   ]
  },
  {
   "cell_type": "code",
   "execution_count": 2,
   "id": "49707604",
   "metadata": {},
   "outputs": [
    {
     "name": "stdout",
     "output_type": "stream",
     "text": [
      "Your goal met = ['a', 'b', 'c', 'd', 'e', 'f', 'g']\n"
     ]
    }
   ],
   "source": [
    "class BFS:\n",
    "    def __init__(self,tree):\n",
    "        self.tree=tree\n",
    "        self.visited=[]\n",
    "        self.queue=[]\n",
    "    def search(self, start, goal):\n",
    "        self.queue.append(start)\n",
    "\n",
    "        while self.queue:\n",
    "            a = self.queue.pop(0)   \n",
    "            if a not in self.visited:\n",
    "                self.visited.append(a)\n",
    "                if a == goal:\n",
    "                    print(\"Your goal met =\", self.visited)\n",
    "                    break\n",
    "                for i in self.tree[a]:\n",
    "                    self.queue.append(i)\n",
    "tree = {\n",
    "    \"a\": [\"b\", \"c\"],\n",
    "    \"b\": [\"d\", \"e\"],\n",
    "    \"c\": [\"f\"],\n",
    "    \"d\": [],\n",
    "    \"e\": [],\n",
    "    \"f\": [\"g\"],\n",
    "    \"g\": []\n",
    "}\n",
    "start = \"a\"\n",
    "goal = \"g\"\n",
    "b = BFS(tree)\n",
    "b.search(start, goal)\n"
   ]
  }
 ],
 "metadata": {
  "kernelspec": {
   "display_name": "base",
   "language": "python",
   "name": "python3"
  },
  "language_info": {
   "codemirror_mode": {
    "name": "ipython",
    "version": 3
   },
   "file_extension": ".py",
   "mimetype": "text/x-python",
   "name": "python",
   "nbconvert_exporter": "python",
   "pygments_lexer": "ipython3",
   "version": "3.12.7"
  }
 },
 "nbformat": 4,
 "nbformat_minor": 5
}
